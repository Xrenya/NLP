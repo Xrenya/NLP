{
  "nbformat": 4,
  "nbformat_minor": 0,
  "metadata": {
    "kernelspec": {
      "display_name": "Python 3",
      "language": "python",
      "name": "python3"
    },
    "language_info": {
      "codemirror_mode": {
        "name": "ipython",
        "version": 3
      },
      "file_extension": ".py",
      "mimetype": "text/x-python",
      "name": "python",
      "nbconvert_exporter": "python",
      "pygments_lexer": "ipython3",
      "version": "3.6.8rc1"
    },
    "colab": {
      "name": "nlp_movie_review_2.ipynb",
      "provenance": [],
      "collapsed_sections": []
    }
  },
  "cells": [
    {
      "cell_type": "code",
      "metadata": {
        "id": "qq3fcmdhnElM"
      },
      "source": [
        "# Logistic regression using PyTorch"
      ],
      "execution_count": null,
      "outputs": []
    },
    {
      "cell_type": "code",
      "metadata": {
        "id": "7xtxNbGWnEd6"
      },
      "source": [
        "from torchtext import data\n",
        "import torch\n",
        "from torch import nn\n",
        "from torch.nn import functional as F"
      ],
      "execution_count": 1,
      "outputs": []
    },
    {
      "cell_type": "code",
      "metadata": {
        "id": "31GMtNC7nb47"
      },
      "source": [
        "if torch.cuda.is_available():\n",
        "  DEVICE = torch.device(\"cuda\")\n",
        "else:\n",
        "  DEVICE = torch.device(\"cpu\")"
      ],
      "execution_count": 2,
      "outputs": []
    },
    {
      "cell_type": "code",
      "metadata": {
        "id": "E0PZPBnJnndr"
      },
      "source": [
        "SEED = 1234\n",
        "\n",
        "torch.manual_seed(SEED)\n",
        "torch.backends.cudnn.deterministic = True"
      ],
      "execution_count": 3,
      "outputs": []
    },
    {
      "cell_type": "code",
      "metadata": {
        "id": "JYThUqbxnyDD",
        "outputId": "9a6738f0-81b8-40dc-f3e6-15163bd06d05",
        "colab": {
          "base_uri": "https://localhost:8080/"
        }
      },
      "source": [
        "import nltk\n",
        "import re\n",
        "import os\n",
        "import pandas as pd\n",
        "\n",
        "nltk.download(\"movie_reviews\")"
      ],
      "execution_count": 4,
      "outputs": [
        {
          "output_type": "stream",
          "text": [
            "[nltk_data] Downloading package movie_reviews to /root/nltk_data...\n",
            "[nltk_data]   Unzipping corpora/movie_reviews.zip.\n"
          ],
          "name": "stdout"
        },
        {
          "output_type": "execute_result",
          "data": {
            "text/plain": [
              "True"
            ]
          },
          "metadata": {
            "tags": []
          },
          "execution_count": 4
        }
      ]
    },
    {
      "cell_type": "code",
      "metadata": {
        "id": "-X4xijGOoGbb"
      },
      "source": [
        "POS = \"pos\"\n",
        "NEG = \"neg\""
      ],
      "execution_count": 5,
      "outputs": []
    },
    {
      "cell_type": "code",
      "metadata": {
        "id": "U59nlWiSoK8c"
      },
      "source": [
        "text_sentiments = (POS, NEG)\n",
        "\n",
        "example = []\n",
        "\n",
        "for sentiment in text_sentiments:\n",
        "  for filename in os.listdir(os.path.join(nltk.corpus.movie_reviews.root.path, sentiment)):\n",
        "    with open(os.path.join(nltk.corpus.movie_reviews.root.path, sentiment, filename), \"r\", encoding=\"utf-8\") as file:\n",
        "      example.append({\"text\": file.read().strip(),\n",
        "                      \"sentiment\": int(sentiment == POS)})"
      ],
      "execution_count": 6,
      "outputs": []
    },
    {
      "cell_type": "code",
      "metadata": {
        "id": "n8Y7yC-XomqF",
        "outputId": "d5194d25-66ed-4325-fe60-54cc3a2d539c",
        "colab": {
          "base_uri": "https://localhost:8080/",
          "height": 198
        }
      },
      "source": [
        "examples_df = pd.DataFrame(example)\n",
        "examples_df.sample(5)"
      ],
      "execution_count": 7,
      "outputs": [
        {
          "output_type": "execute_result",
          "data": {
            "text/html": [
              "<div>\n",
              "<style scoped>\n",
              "    .dataframe tbody tr th:only-of-type {\n",
              "        vertical-align: middle;\n",
              "    }\n",
              "\n",
              "    .dataframe tbody tr th {\n",
              "        vertical-align: top;\n",
              "    }\n",
              "\n",
              "    .dataframe thead th {\n",
              "        text-align: right;\n",
              "    }\n",
              "</style>\n",
              "<table border=\"1\" class=\"dataframe\">\n",
              "  <thead>\n",
              "    <tr style=\"text-align: right;\">\n",
              "      <th></th>\n",
              "      <th>text</th>\n",
              "      <th>sentiment</th>\n",
              "    </tr>\n",
              "  </thead>\n",
              "  <tbody>\n",
              "    <tr>\n",
              "      <th>1612</th>\n",
              "      <td>absolute power , the new film produced and dir...</td>\n",
              "      <td>0</td>\n",
              "    </tr>\n",
              "    <tr>\n",
              "      <th>1091</th>\n",
              "      <td>you think that these people only exist in the ...</td>\n",
              "      <td>0</td>\n",
              "    </tr>\n",
              "    <tr>\n",
              "      <th>1603</th>\n",
              "      <td>running time approximately 1hr 40mins \\nreview...</td>\n",
              "      <td>0</td>\n",
              "    </tr>\n",
              "    <tr>\n",
              "      <th>836</th>\n",
              "      <td>i had been expecting more of this movie than t...</td>\n",
              "      <td>1</td>\n",
              "    </tr>\n",
              "    <tr>\n",
              "      <th>1219</th>\n",
              "      <td>it is movies like these that make a jaded movi...</td>\n",
              "      <td>0</td>\n",
              "    </tr>\n",
              "  </tbody>\n",
              "</table>\n",
              "</div>"
            ],
            "text/plain": [
              "                                                   text  sentiment\n",
              "1612  absolute power , the new film produced and dir...          0\n",
              "1091  you think that these people only exist in the ...          0\n",
              "1603  running time approximately 1hr 40mins \\nreview...          0\n",
              "836   i had been expecting more of this movie than t...          1\n",
              "1219  it is movies like these that make a jaded movi...          0"
            ]
          },
          "metadata": {
            "tags": []
          },
          "execution_count": 7
        }
      ]
    },
    {
      "cell_type": "code",
      "metadata": {
        "id": "Vm1XwSGiplzG"
      },
      "source": [
        "examples_df = examples_df.sample(frac=1)\n",
        "train_df = examples_df.sample(frac=0.7)\n",
        "test_df = examples_df.drop(index=train_df.index)\n",
        "train_texts, train_labels = train_df[\"text\"].values, train_df[\"sentiment\"].values\n",
        "test_texts, test_labels = test_df[\"text\"].values, test_df[\"sentiment\"].values"
      ],
      "execution_count": 8,
      "outputs": []
    },
    {
      "cell_type": "code",
      "metadata": {
        "id": "eP-Cqcs4qoOH",
        "outputId": "87f8fde5-599b-4dee-cec0-15a836bdd20f",
        "colab": {
          "base_uri": "https://localhost:8080/"
        }
      },
      "source": [
        "test_labels[:5]"
      ],
      "execution_count": 9,
      "outputs": [
        {
          "output_type": "execute_result",
          "data": {
            "text/plain": [
              "array([1, 1, 1, 1, 0])"
            ]
          },
          "metadata": {
            "tags": []
          },
          "execution_count": 9
        }
      ]
    },
    {
      "cell_type": "code",
      "metadata": {
        "id": "EQuaYf3CrDRH",
        "outputId": "a6fab723-42e1-433b-b248-16a5114f332a",
        "colab": {
          "base_uri": "https://localhost:8080/"
        }
      },
      "source": [
        "len(test_df.text.values), len(test_df.sentiment.values), len(test_labels)"
      ],
      "execution_count": 10,
      "outputs": [
        {
          "output_type": "execute_result",
          "data": {
            "text/plain": [
              "(600, 600, 600)"
            ]
          },
          "metadata": {
            "tags": []
          },
          "execution_count": 10
        }
      ]
    },
    {
      "cell_type": "code",
      "metadata": {
        "id": "OwYhGgIkrPIo"
      },
      "source": [
        "from typing import List, Dict, Any, Iterable\n",
        "from collections import Counter, OrderedDict\n",
        "import math\n",
        "from itertools import islice"
      ],
      "execution_count": 11,
      "outputs": []
    },
    {
      "cell_type": "code",
      "metadata": {
        "id": "MrFvvgVLrovQ"
      },
      "source": [
        "class TfIdfVectorizer:\n",
        "  \n",
        "\n",
        "  def __init__(self, lower=True, tokenizer_pattern=r\"(?i)\\b[a-z]{2,}\\b\"):\n",
        "    self.lower = lower\n",
        "    self.tokenizer_pattern = re.compile(tokenizer_pattern)\n",
        "    self.vocab_df = OrderedDict()\n",
        "\n",
        "  def __tokenize(self, text: str) -> List[str]:\n",
        "    return self.tokenizer_pattern.findall(text.lower() if self.lower else text)\n",
        "\n",
        "  def fit(self, texts: Iterable[str]):\n",
        "    term_id = 0\n",
        "    for doc_idx, doc in enumerate(texts):\n",
        "      tokenized = self.__tokenize(doc)\n",
        "      for term in tokenized:\n",
        "        if term not in self.vocab_df:\n",
        "          self.vocab_df[term] = {}\n",
        "          self.vocab_df[term][\"doc_ids\"] = {doc_idx}\n",
        "          self.vocab_df[term][\"doc_count\"] = 1\n",
        "          self.vocab_df[term][\"id\"] = term_id\n",
        "          term_id += 1\n",
        "        elif doc_idx not in self.vocab_df[term][\"doc_ids\"]:\n",
        "          self.vocab_df[term][\"doc_ids\"].add(doc_idx)\n",
        "          self.vocab_df[term][\"doc_count\"] += 1\n",
        "    texts_len = len(texts)\n",
        "    for term in self.vocab_df:\n",
        "      self.vocab_df[term][\"idf\"] = math.log(texts_len / self.vocab_df[term][\"doc_count\"])\n",
        "\n",
        "  def transform(self, texts: Iterable[str]) -> torch.sparse.LongTensor:\n",
        "    values = []\n",
        "    doc_indices = []\n",
        "    term_indices = []\n",
        "    for doc_idx, raw_doc in enumerate(texts):\n",
        "      term_counter = {}\n",
        "      for token in self.__tokenize(raw_doc):\n",
        "        if token in self.vocab_df:\n",
        "          term = self.vocab_df[token]\n",
        "          term_idx = term[\"id\"]\n",
        "          term_idf = term[\"idf\"]\n",
        "          if term_idx not in term_counter:\n",
        "            term_counter[term_idx] = term_idf\n",
        "          else:\n",
        "            term_counter[term_idx] += term_idf\n",
        "      term_indices.extend(term_counter.keys())\n",
        "      values.extend(term_counter.values())\n",
        "      doc_indices.extend([doc_idx] * len(term_counter))\n",
        "    indices = torch.LongTensor([doc_indices, term_indices], device=DEVICE)\n",
        "    values_tensor = torch.LongTensor(values, device=DEVICE)\n",
        "    tf_idf = torch.sparse.LongTensor(indices,\n",
        "                                     values_tensor,\n",
        "                                     torch.Size([len(texts), len(self.vocab_df)]),\n",
        "                                     device=DEVICE)\n",
        "    return tf_idf"
      ],
      "execution_count": 12,
      "outputs": []
    },
    {
      "cell_type": "code",
      "metadata": {
        "id": "qj2sKWpyCujQ",
        "outputId": "fe4b4aa4-b743-4d83-e3b9-8cfc948ffd7a",
        "colab": {
          "base_uri": "https://localhost:8080/"
        }
      },
      "source": [
        "%%time\n",
        "vectorizer = TfIdfVectorizer()\n",
        "vectorizer.fit(train_texts)"
      ],
      "execution_count": 13,
      "outputs": [
        {
          "output_type": "stream",
          "text": [
            "CPU times: user 943 ms, sys: 28.5 ms, total: 971 ms\n",
            "Wall time: 976 ms\n"
          ],
          "name": "stdout"
        }
      ]
    },
    {
      "cell_type": "code",
      "metadata": {
        "id": "Zfh2GSdZC76g",
        "outputId": "9f21575a-e9f0-47f2-fc70-c84f67710930",
        "colab": {
          "base_uri": "https://localhost:8080/"
        }
      },
      "source": [
        "%%time\n",
        "train_data = vectorizer.transform(train_texts)\n",
        "test_data = vectorizer.transform(test_texts)"
      ],
      "execution_count": 14,
      "outputs": [
        {
          "output_type": "stream",
          "text": [
            "CPU times: user 1.18 s, sys: 25.4 ms, total: 1.21 s\n",
            "Wall time: 1.27 s\n"
          ],
          "name": "stdout"
        }
      ]
    },
    {
      "cell_type": "code",
      "metadata": {
        "id": "rvVohNFXEEZ4"
      },
      "source": [
        "# Making the dataset iterable\n",
        "from torch.utils.data import DataLoader, Dataset"
      ],
      "execution_count": 15,
      "outputs": []
    },
    {
      "cell_type": "code",
      "metadata": {
        "id": "SU0yLLXNEJH4"
      },
      "source": [
        "BATCH_SIZE = 64\n",
        "train_data_loader = DataLoader(train_texts, batch_size=BATCH_SIZE)\n",
        "test_data_loader = DataLoader(test_texts, batch_size=BATCH_SIZE)"
      ],
      "execution_count": 16,
      "outputs": []
    },
    {
      "cell_type": "code",
      "metadata": {
        "id": "wyiWixW1EUOA"
      },
      "source": [
        "def batch(iterable, n=1):\n",
        "  l = len(iterable)\n",
        "  for ndx in range(0, l, n):\n",
        "    yield iterable[ndx:min(ndx+n, l)]"
      ],
      "execution_count": 17,
      "outputs": []
    },
    {
      "cell_type": "code",
      "metadata": {
        "id": "YKvDvusxEneY"
      },
      "source": [
        "# Build the model\n",
        "class LogisticRegressionModel(nn.Module):\n",
        "\n",
        "  def __init__(self, input_dim, output_dim):\n",
        "    super(LogisticRegressionModel, self).__init__()\n",
        "    self.linear_1 = nn.Linear(input_dim, output_dim)\n",
        "\n",
        "  def forward(self, x):\n",
        "    x = F.softmax(self.linear_1(x))\n",
        "    return x"
      ],
      "execution_count": 18,
      "outputs": []
    },
    {
      "cell_type": "code",
      "metadata": {
        "id": "2k0n4IeDFZOZ"
      },
      "source": [
        "model = LogisticRegressionModel(len(vectorizer.vocab_df), 2)"
      ],
      "execution_count": 19,
      "outputs": []
    },
    {
      "cell_type": "code",
      "metadata": {
        "id": "tPD3lIbxKE3v"
      },
      "source": [
        "criterion = nn.CrossEntropyLoss()\n",
        "learning_rate = 0.001\n",
        "optimizer = torch.optim.SGD(model.parameters(), lr=learning_rate)"
      ],
      "execution_count": 20,
      "outputs": []
    },
    {
      "cell_type": "code",
      "metadata": {
        "id": "4V7pMlcVMFZR",
        "outputId": "9a2e5504-5bce-4e9a-ca41-688c536b9032",
        "colab": {
          "base_uri": "https://localhost:8080/"
        }
      },
      "source": [
        "print(model.parameters())\n",
        "print(len(list(model.parameters())))\n",
        "print(list(model.parameters())[0].size())\n",
        "print(list(model.parameters())[1].size())"
      ],
      "execution_count": 21,
      "outputs": [
        {
          "output_type": "stream",
          "text": [
            "<generator object Module.parameters at 0x7fe95fe1e200>\n",
            "2\n",
            "torch.Size([2, 33771])\n",
            "torch.Size([2])\n"
          ],
          "name": "stdout"
        }
      ]
    },
    {
      "cell_type": "code",
      "metadata": {
        "id": "RmZDjRyvMbxq",
        "outputId": "8fb9ac68-035c-41b1-f895-dda1d62a2642",
        "colab": {
          "base_uri": "https://localhost:8080/"
        }
      },
      "source": [
        "NUM_EPOCHS = 5\n",
        "iteration = 0\n",
        "for epoch in range(NUM_EPOCHS):\n",
        "  print(f\"Epoch # {epoch}\")\n",
        "  for i, (texts, labels) in enumerate(zip(train_data_loader, batch(train_labels, BATCH_SIZE))):\n",
        "    labels = torch.LongTensor(labels)\n",
        "    texts = F.normalize(vectorizer.transform(texts).to(torch.float).to_dense()).requires_grad_()\n",
        "    #print(texts.size(), labels.size())\n",
        "    optimizer.zero_grad()\n",
        "    outputs = model(texts)\n",
        "    loss = criterion(outputs, labels)\n",
        "    loss.backward()\n",
        "    optimizer.step()\n",
        "    iteration += 1\n",
        "\n",
        "    if iteration % 50 == 0:\n",
        "      correct = 0\n",
        "      total = 0\n",
        "      for test_texts, test_labels_batch in zip(test_data_loader, batch(test_labels, BATCH_SIZE)):\n",
        "        test_texts = F.normalize(vectorizer.transform(test_texts).to(torch.float).to_dense())\n",
        "        test_labels_batch = torch.Tensor(test_labels_batch).to(torch.long)\n",
        "\n",
        "        outputs = model(test_texts)\n",
        "        _, predicted = torch.max(outputs.data, 1)\n",
        "        total += test_labels_batch.size(0)\n",
        "        correct += (predicted == test_labels_batch).sum()\n",
        "      accuracy = 100 * correct / total\n",
        "\n",
        "      print(f\"Iteration: {iteration}. Loss {loss.item()}. Accuracy {accuracy}\")"
      ],
      "execution_count": 22,
      "outputs": [
        {
          "output_type": "stream",
          "text": [
            "Epoch # 0\n"
          ],
          "name": "stdout"
        },
        {
          "output_type": "stream",
          "text": [
            "/usr/local/lib/python3.6/dist-packages/ipykernel_launcher.py:9: UserWarning: Implicit dimension choice for softmax has been deprecated. Change the call to include dim=X as an argument.\n",
            "  if __name__ == '__main__':\n"
          ],
          "name": "stderr"
        },
        {
          "output_type": "stream",
          "text": [
            "Epoch # 1\n",
            "Epoch # 2\n",
            "Iteration: 50. Loss 0.6931905150413513. Accuracy 47.5\n",
            "Epoch # 3\n",
            "Epoch # 4\n",
            "Iteration: 100. Loss 0.6933770775794983. Accuracy 47.16666793823242\n"
          ],
          "name": "stdout"
        }
      ]
    }
  ]
}