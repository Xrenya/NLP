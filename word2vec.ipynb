{
  "nbformat": 4,
  "nbformat_minor": 0,
  "metadata": {
    "colab": {
      "name": "word2vec.ipynb",
      "provenance": [],
      "collapsed_sections": []
    },
    "kernelspec": {
      "name": "python3",
      "display_name": "Python 3"
    }
  },
  "cells": [
    {
      "cell_type": "code",
      "metadata": {
        "id": "0yoP834hmKCv"
      },
      "source": [
        "import numpy as np\n",
        "import torch\n",
        "from torch.autograd import Variable\n",
        "import torch.nn.functional as F"
      ],
      "execution_count": 4,
      "outputs": []
    },
    {
      "cell_type": "markdown",
      "metadata": {
        "id": "lgEe5HS-3Z5z"
      },
      "source": [
        "Nano corpus:"
      ]
    },
    {
      "cell_type": "code",
      "metadata": {
        "id": "lGz5VrEj2Rqd"
      },
      "source": [
        "corpus = [\n",
        "          \"he is a king\",\n",
        "          \"she is a queen\",\n",
        "          \"he is a man\",\n",
        "          \"she is a woman\",\n",
        "          \"Warsaw is Poland capital\",\n",
        "          \"Berlin is German capital\",\n",
        "          \"Paris is France capital\"          \n",
        "]"
      ],
      "execution_count": 5,
      "outputs": []
    },
    {
      "cell_type": "markdown",
      "metadata": {
        "id": "ZwjxR4yJfMKP"
      },
      "source": [
        "Create vocabulary word2vec:"
      ]
    },
    {
      "cell_type": "code",
      "metadata": {
        "id": "PvFScxoH3T1i",
        "outputId": "f9bbc6cf-1e9c-48d7-f2c9-859888389256",
        "colab": {
          "base_uri": "https://localhost:8080/",
          "height": 138
        }
      },
      "source": [
        "def tokenize_corpus(corpus):\n",
        "  tokens = [text.lower().split() for text in corpus]\n",
        "  return tokens\n",
        "\n",
        "tokenized_corpus = tokenize_corpus(corpus)\n",
        "tokenized_corpus"
      ],
      "execution_count": 6,
      "outputs": [
        {
          "output_type": "execute_result",
          "data": {
            "text/plain": [
              "[['he', 'is', 'a', 'king'],\n",
              " ['she', 'is', 'a', 'queen'],\n",
              " ['he', 'is', 'a', 'man'],\n",
              " ['she', 'is', 'a', 'woman'],\n",
              " ['warsaw', 'is', 'poland', 'capital'],\n",
              " ['berlin', 'is', 'german', 'capital'],\n",
              " ['paris', 'is', 'france', 'capital']]"
            ]
          },
          "metadata": {
            "tags": []
          },
          "execution_count": 6
        }
      ]
    },
    {
      "cell_type": "code",
      "metadata": {
        "id": "_n41IdhsfuhP",
        "outputId": "0dee37fa-7309-48a6-d256-7a1f0ed9bba6",
        "colab": {
          "base_uri": "https://localhost:8080/",
          "height": 294
        }
      },
      "source": [
        "vocabulary = []\n",
        "for sentence in tokenized_corpus:\n",
        "  for token in sentence:\n",
        "    if token not in vocabulary:\n",
        "      vocabulary.append(token)\n",
        "\n",
        "word2idx = {w: idx for (idx, w) in enumerate(vocabulary)}\n",
        "idx2word = {idx: w for (idx, w) in enumerate(vocabulary)}\n",
        "\n",
        "vocabulary_size = len(vocabulary)\n",
        "vocabulary_size, idx2word"
      ],
      "execution_count": 7,
      "outputs": [
        {
          "output_type": "execute_result",
          "data": {
            "text/plain": [
              "(15,\n",
              " {0: 'he',\n",
              "  1: 'is',\n",
              "  2: 'a',\n",
              "  3: 'king',\n",
              "  4: 'she',\n",
              "  5: 'queen',\n",
              "  6: 'man',\n",
              "  7: 'woman',\n",
              "  8: 'warsaw',\n",
              "  9: 'poland',\n",
              "  10: 'capital',\n",
              "  11: 'berlin',\n",
              "  12: 'german',\n",
              "  13: 'paris',\n",
              "  14: 'france'})"
            ]
          },
          "metadata": {
            "tags": []
          },
          "execution_count": 7
        }
      ]
    },
    {
      "cell_type": "markdown",
      "metadata": {
        "id": "SdV1hzrLhw4q"
      },
      "source": [
        "Generate pairs `center word`, `context word`. Context window is equal 2."
      ]
    },
    {
      "cell_type": "code",
      "metadata": {
        "id": "nRtAIiYVglkS",
        "outputId": "a6b89cd1-8060-42a4-cd6f-cdfef0be5ec9",
        "colab": {
          "base_uri": "https://localhost:8080/",
          "height": 104
        }
      },
      "source": [
        "window_size = 2\n",
        "idx_pairs = []\n",
        "for sentence in tokenized_corpus:\n",
        "  indices = [word2idx[word] for word in sentence]\n",
        "  for center_word_pos in range(len(indices)):\n",
        "    for w in range(-window_size, window_size+1):\n",
        "      context_word_pos = center_word_pos + w\n",
        "      if (context_word_pos < 0) or (context_word_pos >= len(indices)) or center_word_pos == context_word_pos:\n",
        "        continue\n",
        "      context_word_idx = indices[context_word_pos]\n",
        "      idx_pairs.append((indices[center_word_pos], context_word_idx))\n",
        "\n",
        "idx_paris = np.array(idx_pairs)\n",
        "idx_paris[:5]"
      ],
      "execution_count": 8,
      "outputs": [
        {
          "output_type": "execute_result",
          "data": {
            "text/plain": [
              "array([[0, 1],\n",
              "       [0, 2],\n",
              "       [1, 0],\n",
              "       [1, 2],\n",
              "       [1, 3]])"
            ]
          },
          "metadata": {
            "tags": []
          },
          "execution_count": 8
        }
      ]
    },
    {
      "cell_type": "code",
      "metadata": {
        "id": "5vk9pNjymbvn"
      },
      "source": [
        "# Input layer shape = [1, vocabulary_size]\n",
        "def get_input_layer(word_idx):\n",
        "  x = torch.zeros(vocabulary_size).float()\n",
        "  x[word_idx] = 1.0\n",
        "  return x"
      ],
      "execution_count": 9,
      "outputs": []
    },
    {
      "cell_type": "code",
      "metadata": {
        "id": "82aMxRN3vxdc",
        "outputId": "3dadb2ea-e358-4dac-c725-5cf94c4ff6e2",
        "colab": {
          "base_uri": "https://localhost:8080/",
          "height": 190
        }
      },
      "source": [
        "# Hidden layer shape = [embeddings_dim, vocabulary size]\n",
        "embedding_dims = 7\n",
        "W1 = Variable(torch.randn(embedding_dims, vocabulary_size), requires_grad=True)\n",
        "# Output layer\n",
        "W2 = Variable(torch.randn(vocabulary_size, embedding_dims), requires_grad=True)\n",
        "EPOCHS = 100\n",
        "lr = 10e-3\n",
        "\n",
        "for epoch in range(EPOCHS):\n",
        "  losses = 0\n",
        "  loss_acc = []\n",
        "  idx_pairs = np.random.permutation(idx_pairs)\n",
        "  for data, target in idx_pairs:\n",
        "    X = Variable(get_input_layer(data))\n",
        "    y = Variable(torch.from_numpy(np.array([target])))\n",
        "\n",
        "    z1 = torch.matmul(W1, X)\n",
        "    z2 = torch.matmul(W2, z1)\n",
        "\n",
        "    log_softmax = F.log_softmax(z2, dim=0)\n",
        "\n",
        "    loss = F.nll_loss(log_softmax.view(1,-1), y)\n",
        "    losses += loss.item()\n",
        "    loss_acc.append(loss.item())\n",
        "    loss.backward()\n",
        "    W1.data -= lr * W1.grad.data\n",
        "    W2.data -= lr * W2.grad.data\n",
        "\n",
        "    W1.grad.data.zero_()\n",
        "    W2.grad.data.zero_()\n",
        "    \n",
        "  if epoch%10 == 0:\n",
        "    print(f\"Loss at epoch {epoch}: {losses / len(idx_pairs)}\")"
      ],
      "execution_count": 113,
      "outputs": [
        {
          "output_type": "stream",
          "text": [
            "Loss at epoch 0: 5.402669748983213\n",
            "Loss at epoch 10: 2.6605129037584576\n",
            "Loss at epoch 20: 2.2096155958516257\n",
            "Loss at epoch 30: 2.0115505201475963\n",
            "Loss at epoch 40: 1.9084281478609357\n",
            "Loss at epoch 50: 1.8458724771227155\n",
            "Loss at epoch 60: 1.802310329249927\n",
            "Loss at epoch 70: 1.7685917500938688\n",
            "Loss at epoch 80: 1.7419487054858889\n",
            "Loss at epoch 90: 1.7185039928981236\n"
          ],
          "name": "stdout"
        }
      ]
    },
    {
      "cell_type": "code",
      "metadata": {
        "id": "UN12zHGM2b9s"
      },
      "source": [
        "def similarity(v, u):\n",
        "  return (torch.dot(v, u) / (torch.norm(v) * torch.norm(u))).item()"
      ],
      "execution_count": 114,
      "outputs": []
    },
    {
      "cell_type": "code",
      "metadata": {
        "id": "pQLJjK7r72vN",
        "outputId": "91aedc68-8ea0-49ae-cbb2-96e6379b716d",
        "colab": {
          "base_uri": "https://localhost:8080/",
          "height": 35
        }
      },
      "source": [
        "similarity(W2[word2idx[\"she\"]], W2[word2idx[\"king\"]]), similarity(W2[word2idx[\"he\"]], W2[word2idx[\"king\"]])"
      ],
      "execution_count": 115,
      "outputs": [
        {
          "output_type": "execute_result",
          "data": {
            "text/plain": [
              "(0.2857823967933655, 0.614136815071106)"
            ]
          },
          "metadata": {
            "tags": []
          },
          "execution_count": 115
        }
      ]
    },
    {
      "cell_type": "code",
      "metadata": {
        "id": "wmRUNlq39Za4",
        "outputId": "c648a2ac-cc64-4620-9cdc-15917bc2ea8e",
        "colab": {
          "base_uri": "https://localhost:8080/",
          "height": 35
        }
      },
      "source": [
        "similarity(W2[word2idx[\"she\"]], W2[word2idx[\"queen\"]]), similarity(W2[word2idx[\"he\"]], W2[word2idx[\"queen\"]])"
      ],
      "execution_count": 116,
      "outputs": [
        {
          "output_type": "execute_result",
          "data": {
            "text/plain": [
              "(0.4709746539592743, 0.620449423789978)"
            ]
          },
          "metadata": {
            "tags": []
          },
          "execution_count": 116
        }
      ]
    },
    {
      "cell_type": "code",
      "metadata": {
        "id": "htH9Bhau_AYM"
      },
      "source": [
        ""
      ],
      "execution_count": null,
      "outputs": []
    }
  ]
}